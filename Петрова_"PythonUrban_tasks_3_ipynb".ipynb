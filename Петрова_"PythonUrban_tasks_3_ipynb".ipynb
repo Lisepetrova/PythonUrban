{
  "cells": [
    {
      "cell_type": "markdown",
      "metadata": {
        "id": "view-in-github",
        "colab_type": "text"
      },
      "source": [
        "<a href=\"https://colab.research.google.com/github/Lisepetrova/PythonUrban/blob/main/%D0%9F%D0%B5%D1%82%D1%80%D0%BE%D0%B2%D0%B0_%22PythonUrban_tasks_3_ipynb%22.ipynb\" target=\"_parent\"><img src=\"https://colab.research.google.com/assets/colab-badge.svg\" alt=\"Open In Colab\"/></a>"
      ]
    },
    {
      "cell_type": "markdown",
      "metadata": {
        "id": "0dx6N97Pmh42"
      },
      "source": [
        "f-строки"
      ]
    },
    {
      "cell_type": "code",
      "execution_count": null,
      "metadata": {
        "colab": {
          "base_uri": "https://localhost:8080/"
        },
        "id": "9-bPJUJYnj5c",
        "outputId": "4c9a201f-2899-4d44-cefb-860c0b15249d"
      },
      "outputs": [
        {
          "name": "stdout",
          "output_type": "stream",
          "text": [
            "Индекс озеленения территории Пушкин равен 9.67%\n"
          ]
        }
      ],
      "source": [
        "name = \"Пушкин\"\n",
        "value = 9.67\n",
        "print(f\"Индекс озеленения территории {name} равен {value}%\")  # такой формат строк, позволяет добавлять в него динамические значения"
      ]
    },
    {
      "cell_type": "markdown",
      "metadata": {
        "id": "TJj0RE5LmZ7C"
      },
      "source": [
        "##### **Задача 1** "
      ]
    },
    {
      "cell_type": "code",
      "execution_count": 107,
      "metadata": {
        "colab": {
          "base_uri": "https://localhost:8080/"
        },
        "id": "GnjKATNlakVX",
        "outputId": "14d3b7aa-f95d-4045-a3d2-61abe838e6ba"
      },
      "outputs": [
        {
          "output_type": "stream",
          "name": "stdout",
          "text": [
            "Индекс озеленения территории Пушкин равен 9.67%\n"
          ]
        }
      ],
      "source": [
        "class GreenZoneIndex:\n",
        "    def __init__(self, territory_name, territory_area: int, green_zones: list):\n",
        "        \"\"\"\n",
        "        :param territory_name: Название территории\n",
        "        :param territory_area: Площадь территории\n",
        "        :param green_zones: Список площадей парков\n",
        "        \"\"\"\n",
        "        # TODO все аргументы конструктора записать в атрибуты экземпляра класса\n",
        "        self.territory_name = territory_name\n",
        "        self.territory_area = territory_area\n",
        "        self.green_zones = green_zones\n",
        "\n",
        "        self.green_index = None  # индекс озеленения\n",
        "        self.green_index = self.calculate_green_index()\n",
        "        # TODO посчитать индекс озеленения с помощью метода calculate_green_index\n",
        "\n",
        "    def calculate_green_index(self):\n",
        "    \n",
        "        calculate_green_index = sum(self.green_zones)/self.territory_area * 100\n",
        "        return round (calculate_green_index, 2) \n",
        "        # TODO посчитать индекс озеленения с атрибутов экземпляра класса\n",
        "\n",
        "territory_name = \"Пушкин\"\n",
        "territory_area = 28676\n",
        "green_zones = [302, 487, 420, 325, 471, 363, 404]\n",
        "value = GreenZoneIndex(territory_name, territory_area,green_zones)\n",
        "# TODO Создать экземпряр класса и с помощью его атрибутов распечатать индекс озеленения в процентах до 2 знака после запятой. \n",
        "print(f\"Индекс озеленения территории {value.territory_name} равен {value.green_index}%\")\n",
        "\n",
        "# Ожидаемый ответ Индекс озеленения территории Пушкин равен 9.67%"
      ]
    },
    {
      "cell_type": "markdown",
      "metadata": {
        "id": "C2lbIinfkDAx"
      },
      "source": [
        "##### ***Задача 2***"
      ]
    },
    {
      "cell_type": "markdown",
      "metadata": {
        "id": "pNq9zNCokLzE"
      },
      "source": [
        "Дан список словарей территорий.  \n",
        "Сделать новый список с объектами ранее реализованного типа `GreenZoneIndex`.  "
      ]
    },
    {
      "cell_type": "code",
      "execution_count": 108,
      "metadata": {
        "colab": {
          "base_uri": "https://localhost:8080/"
        },
        "id": "48scmiImcKCf",
        "outputId": "e7f8e4f8-4551-4ff8-c8a0-133689b07798"
      },
      "outputs": [
        {
          "output_type": "stream",
          "name": "stdout",
          "text": [
            "Индекс озеленения территории Пушкин равен 9.67%\n",
            "Индекс озеленения территории Павловск равен 10.27%\n",
            "Индекс озеленения территории Петергоф равен 6.06%\n",
            "[9.67, 10.27, 6.06]\n"
          ]
        }
      ],
      "source": [
        "list_territories = [\n",
        "    {\n",
        "        \"territory_name\": \"Пушкин\",\n",
        "        \"territory_area\": 28676,\n",
        "        \"green_zones\": [302, 487, 420, 325, 471, 363, 404]\n",
        "    },\n",
        "    {\n",
        "        \"territory_name\": \"Павловск\",\n",
        "        \"territory_area\": 21025,\n",
        "        \"green_zones\": [360, 375, 223, 258, 345, 296, 303]\n",
        "    },\n",
        "    {\n",
        "        \"territory_name\": \"Петергоф\",\n",
        "        \"territory_area\": 44274,\n",
        "        \"green_zones\": [364, 447, 438, 223, 336, 431, 442]\n",
        "    },\n",
        "]\n",
        "list_index = []\n",
        "for city_dict in list_territories:\n",
        "  territory_name = city_dict.get(\"territory_name\")\n",
        "  territory_area = city_dict.get(\"territory_area\")\n",
        "  green_zones = city_dict.get(\"green_zones\")\n",
        "  value = GreenZoneIndex(territory_name, territory_area,green_zones)\n",
        "  list_index.append(value.green_index)\n",
        "  print(f\"Индекс озеленения территории {value.territory_name} равен {value.green_index}%\")\n",
        "print(list_index)"
      ]
    },
    {
      "cell_type": "markdown",
      "metadata": {
        "id": "UmvFY4-Oo9i2"
      },
      "source": [
        "##### ***Задача 3***"
      ]
    },
    {
      "cell_type": "markdown",
      "metadata": {
        "id": "CsoJ6DA4o_8F"
      },
      "source": [
        "Написать функцию `get_mean_green_index`,  \n",
        "которая в качестве аргумента принимает список объектов типа `GreenZoneIndex` и считает от них средний индекс озеленения. "
      ]
    },
    {
      "cell_type": "code",
      "execution_count": 106,
      "metadata": {
        "id": "3x3x4t76o8oT",
        "colab": {
          "base_uri": "https://localhost:8080/"
        },
        "outputId": "9d149288-b820-4e23-c20a-4a3e984904d5"
      },
      "outputs": [
        {
          "output_type": "stream",
          "name": "stdout",
          "text": [
            "0\n"
          ]
        }
      ],
      "source": [
        "# взять из лекции 2\n",
        " # длина от списка, суммирование списка\n",
        "\n",
        "def get_mean_green_index(list_index) -> float:\n",
        "    mean_index = 0\n",
        "    mean_index = sum(list_index)/len(list_index)\n",
        "    \n",
        "    return mean_index \n",
        "\n",
        "print(mean_index) # выдает значение 0, не понимаю почему функция не выполняется"
      ]
    },
    {
      "cell_type": "markdown",
      "metadata": {
        "id": "SBLuQt2Ur2By"
      },
      "source": [
        "##### ***Задача 4***"
      ]
    },
    {
      "cell_type": "markdown",
      "metadata": {
        "id": "SPTJtvr3r2By"
      },
      "source": [
        "Написать функцию `filter_min_green_index`,  \n",
        "которая в качестве аргументов принимает список объектов типа `GreenZoneIndex`  \n",
        "и минимальный порог озеленения, значение по умолчанию 0.1. \n",
        "\n",
        "Результатом функции должно быть число территорий,  \n",
        "индекс озеленения которых ниже заданного минимального порога. "
      ]
    },
    {
      "cell_type": "code",
      "execution_count": 125,
      "metadata": {
        "id": "FA30f44-gFqF"
      },
      "outputs": [],
      "source": [
        "\n",
        "def filter_min_green_index (list_index, min_value: float = 0.1):\n",
        "  zones_counter = 0\n",
        "  for item in list_index:\n",
        "        if item > min_value:\n",
        "            zones_counter += 1\n",
        "  return zones_counter\n",
        "  print(zones_counter)\n"
      ]
    },
    {
      "cell_type": "markdown",
      "metadata": {
        "id": "ui4tAjhmzeMP"
      },
      "source": [
        "## list comprehension"
      ]
    },
    {
      "cell_type": "markdown",
      "metadata": {
        "id": "n9NGbRXTfprL"
      },
      "source": [
        "### Обработка каждого элемента"
      ]
    },
    {
      "cell_type": "code",
      "execution_count": null,
      "metadata": {
        "colab": {
          "base_uri": "https://localhost:8080/"
        },
        "id": "iNRAdVgAz4Dy",
        "outputId": "b3a65af9-f981-44ec-ee2e-b6452d085f0d"
      },
      "outputs": [
        {
          "name": "stdout",
          "output_type": "stream",
          "text": [
            "[3, 4, 12, 17, 19, 21, 23, 26, 30]\n",
            "[3, 4, 12, 17, 19, 21, 23, 26, 30]\n"
          ]
        }
      ],
      "source": [
        "cart = [3, 4, 12, 17, 19, 21, 23, 26, 30]\n",
        "\n",
        "cashier = []  # новый список с помощью метода append\n",
        "for item in cart:\n",
        "    cashier.append(item)\n",
        "print(cashier)\n",
        "\n",
        "cashier = [item for item in cart]\n",
        "print(cashier)"
      ]
    },
    {
      "cell_type": "markdown",
      "metadata": {
        "id": "2M-NIZP0zisn"
      },
      "source": [
        "![](https://github.com/mrdbourke/python-list-comprehensions-tutorial/raw/f68f956c745932e1b824a69994706d715adde0a1/images/list-comprehensions-1.png)"
      ]
    },
    {
      "cell_type": "markdown",
      "metadata": {
        "id": "5LQP3XvhfXJ1"
      },
      "source": [
        "##### ***Задача. Сделать название городов с заглавной буквы.***\n",
        "\n"
      ]
    },
    {
      "cell_type": "code",
      "execution_count": null,
      "metadata": {
        "colab": {
          "base_uri": "https://localhost:8080/"
        },
        "id": "AERkw6gvfXJ2",
        "outputId": "045eaf45-f756-4496-eab8-c46bbd775f11"
      },
      "outputs": [
        {
          "name": "stdout",
          "output_type": "stream",
          "text": [
            "['Москва', 'Ижевск', 'Владивосток', 'Новосибирск', 'Мурманск']\n"
          ]
        }
      ],
      "source": [
        "list_cities = [\"москва\", \"иЖЕВСк\", \"Владивосток\", \"новосибирсК\", \"мУРМАНСК\"]\n",
        "list_cities_2 = [city.capitalize() for city in list_cities]\n",
        "    \n",
        "print(list_cities_2)"
      ]
    },
    {
      "cell_type": "code",
      "execution_count": null,
      "metadata": {
        "colab": {
          "base_uri": "https://localhost:8080/"
        },
        "id": "H-ZHPvzAwEaJ",
        "outputId": "a6874858-6e1d-4131-c659-59ca039c87cb"
      },
      "outputs": [
        {
          "name": "stdout",
          "output_type": "stream",
          "text": [
            "['Москва', 'Ижевск', 'Владивосток', 'Новосибирск', 'Мурманск']\n"
          ]
        }
      ],
      "source": [
        "list_cities = [\"москва\", \"иЖЕВСк\", \"Владивосток\", \"новосибирсК\", \"мУРМАНСК\"]\n",
        "list_cities_2 = [city.capitalize() for city in list_cities]\n",
        "\n",
        "new_list_cities = []\n",
        "\n",
        "for city in list_cities_2: \n",
        "  new_list_cities.append(city) # todo с помощью метода списка append получить новый список с названиями город с заглавной буквы\n",
        "    \n",
        "print(new_list_cities)"
      ]
    },
    {
      "cell_type": "markdown",
      "metadata": {
        "id": "KqBclW8qfxjg"
      },
      "source": [
        "### Фильтрация элементов"
      ]
    },
    {
      "cell_type": "code",
      "execution_count": null,
      "metadata": {
        "colab": {
          "base_uri": "https://localhost:8080/"
        },
        "id": "MeJH1lcB0RCF",
        "outputId": "34128a00-bce8-4149-a06b-206483f732bd"
      },
      "outputs": [
        {
          "name": "stdout",
          "output_type": "stream",
          "text": [
            "[10, 12, 20, 22]\n",
            "[10, 12, 20, 22]\n"
          ]
        }
      ],
      "source": [
        "cart = [5, 7, 9, 10, 12, 15, 19, 20, 22]\n",
        "\n",
        "cashier_3 = []\n",
        "for item in cart:\n",
        "    if item % 2 == 0:  # только четные\n",
        "        cashier_3.append(item)\n",
        "print(cashier_3)\n",
        "\n",
        "cashier_3 = [item for item in cart if item % 2 == 0]\n",
        "print(cashier_3)"
      ]
    },
    {
      "cell_type": "markdown",
      "metadata": {
        "id": "snHVDtsj0Zx3"
      },
      "source": [
        "![](https://github.com/mrdbourke/python-list-comprehensions-tutorial/raw/f68f956c745932e1b824a69994706d715adde0a1/images/list-comprehensions-2.png)"
      ]
    },
    {
      "cell_type": "markdown",
      "metadata": {
        "id": "HAFR21irgBpG"
      },
      "source": [
        "##### ***Задача. Отфильтровать города с населением больше 1 млн. человек.***\n",
        "\n"
      ]
    },
    {
      "cell_type": "code",
      "execution_count": null,
      "metadata": {
        "colab": {
          "base_uri": "https://localhost:8080/"
        },
        "id": "Ae_6bDglgMCw",
        "outputId": "786be135-189a-4d7d-9a11-145219f5794c"
      },
      "outputs": [
        {
          "name": "stdout",
          "output_type": "stream",
          "text": [
            "[{'name': 'Москва', 'population': 12000000}, {'name': 'Санкт-Петербург', 'population': 5000000}]\n"
          ]
        }
      ],
      "source": [
        "list_cities = [\n",
        "    {\n",
        "        \"name\": \"Москва\",\n",
        "        \"population\": 12 * 10 ** 6,\n",
        "    },\n",
        "    {\n",
        "        \"name\": \"Санкт-Петербург\",\n",
        "        \"population\": 5 * 10 ** 6,\n",
        "    },\n",
        "    {\n",
        "        \"name\": \"Ижевск\",\n",
        "        \"population\": 0.6 * 10 ** 6,\n",
        "    },\n",
        "]\n",
        "\n",
        "filter_population = 10 ** 6\n",
        "# TODO отфильтровать города"
      ]
    }
  ],
  "metadata": {
    "colab": {
      "provenance": [],
      "include_colab_link": true
    },
    "kernelspec": {
      "display_name": "Python 3",
      "name": "python3"
    },
    "language_info": {
      "name": "python"
    }
  },
  "nbformat": 4,
  "nbformat_minor": 0
}